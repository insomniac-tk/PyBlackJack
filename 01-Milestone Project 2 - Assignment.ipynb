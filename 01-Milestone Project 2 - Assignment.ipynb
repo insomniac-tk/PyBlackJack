{
 "cells": [
  {
   "cell_type": "markdown",
   "metadata": {},
   "source": [
    "# Milestone Project 2 - Blackjack Game\n",
    "In this milestone project you will be creating a Complete BlackJack Card Game in Python.\n",
    "\n",
    "Here are the requirements:\n",
    "\n",
    "* You need to create a simple text-based [BlackJack](https://en.wikipedia.org/wiki/Blackjack) game\n",
    "* The game needs to have one player versus an automated dealer.\n",
    "* The player can stand or hit.\n",
    "* The player must be able to pick their betting amount.\n",
    "* You need to keep track of the player's total money.\n",
    "* You need to alert the player of wins, losses, or busts, etc...\n",
    "\n",
    "And most importantly:\n",
    "\n",
    "* **You must use OOP and classes in some portion of your game. You can not just use functions in your game. Use classes to help you define the Deck and the Player's hand. There are many right ways to do this, so explore it well!**\n",
    "\n",
    "\n",
    "Feel free to expand this game. Try including multiple players. Try adding in Double-Down and card splits! Remember to you are free to use any resources you want and as always:\n",
    "\n",
    "# HAVE FUN!"
   ]
  },
  {
   "cell_type": "code",
   "execution_count": 19,
   "metadata": {},
   "outputs": [],
   "source": [
    "# Some globals\n",
    "import random \n",
    "suits = ('Hearts', 'Diamonds', 'Spades', 'Clubs')\n",
    "ranks = ('Two', 'Three', 'Four', 'Five', 'Six', 'Seven', 'Eight', 'Nine', 'Ten', 'Jack', 'Queen', 'King', 'Ace')\n",
    "values = {'Two':2, 'Three':3, 'Four':4, 'Five':5, 'Six':6, 'Seven':7, 'Eight':8, 'Nine':9, 'Ten':10, 'Jack':10,\n",
    "         'Queen':10, 'King':10, 'Ace':11}\n",
    "used_cards = []\n",
    "playing = True"
   ]
  },
  {
   "cell_type": "code",
   "execution_count": 20,
   "metadata": {},
   "outputs": [],
   "source": [
    "class Card():\n",
    "    '''\n",
    "        This class serves as an abstraction for A Single Card\n",
    "        Every Card has - A suit, A rank and A Value. \n",
    "    '''\n",
    "    \n",
    "    def __init__(self,suit,rank):\n",
    "        self.suit = suit\n",
    "        self.rank = rank\n",
    "        self.value = values[rank]\n",
    "        \n",
    "    def __str__(self):\n",
    "        return \"{} of {}\".format(self.rank,self.suit)\n",
    "    \n",
    "    def __len__(self):\n",
    "        return self.value\n",
    "\n",
    "    \n",
    "    "
   ]
  },
  {
   "cell_type": "code",
   "execution_count": 21,
   "metadata": {},
   "outputs": [],
   "source": [
    "# Card Test\n",
    "aceofspades = Card(\"Spades\",\"Ace\")\n",
    "queenofdiamonds = Card(\"Diamonds\",\"Queen\")\n",
    "twoofclubs = Card(\"Clubs\",\"Two\")\n",
    "mycards = [aceofspades,queenofdiamonds,twoofclubs]"
   ]
  },
  {
   "cell_type": "code",
   "execution_count": 22,
   "metadata": {},
   "outputs": [
    {
     "data": {
      "text/plain": [
       "'Ace of Spades'"
      ]
     },
     "execution_count": 22,
     "metadata": {},
     "output_type": "execute_result"
    }
   ],
   "source": [
    "x = aceofspades.__str__()\n",
    "x"
   ]
  },
  {
   "cell_type": "code",
   "execution_count": 23,
   "metadata": {},
   "outputs": [
    {
     "name": "stdout",
     "output_type": "stream",
     "text": [
      "Ace of Spades = 11 \n",
      "Queen of Diamonds = 10 \n",
      "Two of Clubs = 2 \n"
     ]
    }
   ],
   "source": [
    "for c in mycards:\n",
    "    l = len(c)\n",
    "    print(\"{} = {} \".format(c,l))"
   ]
  },
  {
   "cell_type": "code",
   "execution_count": 56,
   "metadata": {},
   "outputs": [],
   "source": [
    "class Deck:\n",
    "    '''\n",
    "            This class takes care of the abstraction for a Deck of cards\n",
    "    '''\n",
    "    \n",
    "    def __init__(self):\n",
    "        self.deck = []\n",
    "        for suit in suits:\n",
    "            for rank in ranks:\n",
    "                self.deck.append(Card(suit,rank))\n",
    "                \n",
    "    def __str__(self):\n",
    "        '''\n",
    "            Printing each card inside out Deck!\n",
    "            1. Create a list of string representations of our cards\n",
    "            2. Return a string of those list items using join\n",
    "        '''\n",
    "        cards = []\n",
    "        for c in self.deck:\n",
    "            cards.append(c.__str__())\n",
    "        return ','.join(cards)\n",
    "            \n",
    "            \n",
    "    def shuffle(self):\n",
    "        random.shuffle(self.deck)\n",
    "    \n",
    "    def __len__(self):\n",
    "        return len(self.deck)\n",
    "    \n",
    "    def deal(self):\n",
    "        # Dealer deals the card on top of the deck\n",
    "        card = self.deck[0]\n",
    "        used_cards.append(card)\n",
    "        del self.deck[0]\n",
    "        return card"
   ]
  },
  {
   "cell_type": "code",
   "execution_count": 57,
   "metadata": {},
   "outputs": [],
   "source": [
    "new_deck = Deck()"
   ]
  },
  {
   "cell_type": "code",
   "execution_count": 58,
   "metadata": {
    "scrolled": true
   },
   "outputs": [
    {
     "name": "stdout",
     "output_type": "stream",
     "text": [
      "Two of Hearts,Three of Hearts,Four of Hearts,Five of Hearts,Six of Hearts,Seven of Hearts,Eight of Hearts,Nine of Hearts,Ten of Hearts,Jack of Hearts,Queen of Hearts,King of Hearts,Ace of Hearts,Two of Diamonds,Three of Diamonds,Four of Diamonds,Five of Diamonds,Six of Diamonds,Seven of Diamonds,Eight of Diamonds,Nine of Diamonds,Ten of Diamonds,Jack of Diamonds,Queen of Diamonds,King of Diamonds,Ace of Diamonds,Two of Spades,Three of Spades,Four of Spades,Five of Spades,Six of Spades,Seven of Spades,Eight of Spades,Nine of Spades,Ten of Spades,Jack of Spades,Queen of Spades,King of Spades,Ace of Spades,Two of Clubs,Three of Clubs,Four of Clubs,Five of Clubs,Six of Clubs,Seven of Clubs,Eight of Clubs,Nine of Clubs,Ten of Clubs,Jack of Clubs,Queen of Clubs,King of Clubs,Ace of Clubs\n"
     ]
    }
   ],
   "source": [
    "print(new_deck)"
   ]
  },
  {
   "cell_type": "code",
   "execution_count": 59,
   "metadata": {},
   "outputs": [
    {
     "data": {
      "text/plain": [
       "52"
      ]
     },
     "execution_count": 59,
     "metadata": {},
     "output_type": "execute_result"
    }
   ],
   "source": [
    "len(new_deck)"
   ]
  },
  {
   "cell_type": "code",
   "execution_count": 60,
   "metadata": {},
   "outputs": [],
   "source": [
    "new_deck.shuffle()"
   ]
  },
  {
   "cell_type": "code",
   "execution_count": 61,
   "metadata": {
    "scrolled": true
   },
   "outputs": [
    {
     "name": "stdout",
     "output_type": "stream",
     "text": [
      "Ace of Diamonds,Four of Hearts,Nine of Hearts,Eight of Hearts,King of Hearts,Ten of Diamonds,Six of Diamonds,Five of Clubs,Five of Spades,Queen of Diamonds,Queen of Spades,Queen of Clubs,Eight of Diamonds,Ace of Spades,Ten of Hearts,Two of Spades,Three of Diamonds,Nine of Diamonds,Jack of Hearts,Seven of Spades,Three of Spades,Jack of Spades,Jack of Diamonds,Ace of Clubs,Nine of Spades,Seven of Diamonds,King of Diamonds,Six of Hearts,Six of Spades,Two of Diamonds,Four of Diamonds,Eight of Clubs,Three of Clubs,Jack of Clubs,Seven of Clubs,Ten of Spades,Two of Clubs,Two of Hearts,Three of Hearts,Five of Hearts,Nine of Clubs,Six of Clubs,Seven of Hearts,Ace of Hearts,Ten of Clubs,King of Spades,Five of Diamonds,Four of Spades,Eight of Spades,Four of Clubs,Queen of Hearts,King of Clubs\n"
     ]
    }
   ],
   "source": [
    "print(new_deck)"
   ]
  },
  {
   "cell_type": "code",
   "execution_count": 85,
   "metadata": {},
   "outputs": [],
   "source": [
    "my_cards = [new_deck.deal() for i in range(2)]"
   ]
  },
  {
   "cell_type": "code",
   "execution_count": 87,
   "metadata": {},
   "outputs": [
    {
     "name": "stdout",
     "output_type": "stream",
     "text": [
      "Two of Spades\n",
      "2\n",
      "Three of Diamonds\n",
      "3\n"
     ]
    }
   ],
   "source": [
    "for c in my_cards:\n",
    "    print(c)\n",
    "    print(c.value)"
   ]
  },
  {
   "cell_type": "code",
   "execution_count": 55,
   "metadata": {
    "scrolled": true
   },
   "outputs": [
    {
     "data": {
      "text/plain": [
       "46"
      ]
     },
     "execution_count": 55,
     "metadata": {},
     "output_type": "execute_result"
    }
   ],
   "source": [
    "len(new_deck)"
   ]
  },
  {
   "cell_type": "code",
   "execution_count": 88,
   "metadata": {},
   "outputs": [],
   "source": [
    "class Hand():\n",
    "    \n",
    "    def __init__(self):\n",
    "        self.cards = []\n",
    "        self.value = 0 # Hand begins with zero value \n",
    "        self.aces = 0 # Check number of aces\n",
    "    \n",
    "    def add_card(self,card):\n",
    "        self.cards.append(card)\n",
    "       \n",
    "    def adjust_for_ace(self):\n",
    "        pass\n",
    "        \n",
    "    \n",
    "    def __str__(self):\n",
    "        cards = [c.__str__() for c in self.cards ]\n",
    "        return ','.join(cards)\n",
    "        "
   ]
  },
  {
   "cell_type": "code",
   "execution_count": 81,
   "metadata": {},
   "outputs": [
    {
     "name": "stdout",
     "output_type": "stream",
     "text": [
      "Eight of Diamonds,Ten of Hearts Queen of Clubs,Ace of Spades\n",
      "Eight of Diamonds\n",
      "Queen of Clubs,Ace of Spades\n"
     ]
    }
   ],
   "source": [
    "print(dealer_hand ,player_hand)\n",
    "dealer,player = show_some(dealer_hand,player_hand)\n",
    "print(dealer)\n",
    "print(player_hand)"
   ]
  },
  {
   "cell_type": "code",
   "execution_count": 36,
   "metadata": {},
   "outputs": [],
   "source": [
    "class Chips():\n",
    "    \n",
    "    def __init__(self):\n",
    "        self.total = 100 \n",
    "        self.bet = 0\n",
    "    \n",
    "    def win_bet(self):\n",
    "        self.total+=self.bet\n",
    "    \n",
    "    def lose_bet(self):\n",
    "        self.total-=self.bet\n",
    "    \n",
    "    def blackjack(self):\n",
    "        # player wins 3:2 or 1.5 times his bet\n",
    "        self.total += 1.5*self.bet\n",
    "    \n",
    "    def __str__(self):\n",
    "        return \"Current Total : {}\".format(self.total)"
   ]
  },
  {
   "cell_type": "code",
   "execution_count": 37,
   "metadata": {},
   "outputs": [],
   "source": [
    "def take_bet(chips):\n",
    "    \n",
    "    while True:\n",
    "        \n",
    "        try:\n",
    "            bet = int(input(\"Your Bet , $: \"))\n",
    "        except:\n",
    "            print(\"Betting amount has to be an integer! Try again\")\n",
    "            continue\n",
    "        # there was no exception, time to break!\n",
    "        else:\n",
    "            if bet > chips.total:\n",
    "                print(\"Your bet can't exceed the chips amount. Try again.\")\n",
    "                continue\n",
    "            else:\n",
    "                # deduct bet amount from total of chips.\n",
    "                chips.bet = bet\n",
    "                print(\"You bet ${} on the current hand!\".format(bet))\n",
    "                return bet\n",
    "                break"
   ]
  },
  {
   "cell_type": "code",
   "execution_count": 38,
   "metadata": {},
   "outputs": [],
   "source": [
    "c = Chips()"
   ]
  },
  {
   "cell_type": "code",
   "execution_count": 39,
   "metadata": {
    "scrolled": true
   },
   "outputs": [
    {
     "name": "stdout",
     "output_type": "stream",
     "text": [
      "Your Bet , $: 100\n",
      "You bet $100 on the current hand!\n"
     ]
    }
   ],
   "source": [
    "b = take_bet(c)"
   ]
  },
  {
   "cell_type": "code",
   "execution_count": 40,
   "metadata": {},
   "outputs": [
    {
     "name": "stdout",
     "output_type": "stream",
     "text": [
      "Current Total : 100\n"
     ]
    }
   ],
   "source": [
    "print(c)"
   ]
  },
  {
   "cell_type": "code",
   "execution_count": 41,
   "metadata": {},
   "outputs": [],
   "source": [
    "'''\n",
    "    Function that will be called when Player wants to hit\n",
    "    Hit means we need to add a card to the current hand from the deck\n",
    "'''\n",
    "def hit(hand,deck):\n",
    "    \n",
    "    new_card = deck.deal()\n",
    "    hand.cards.append(new_card)\n",
    "    \n",
    "    if hand.value > 21:\n",
    "        print(\"Aces are {}\".hand.aces)\n",
    "    "
   ]
  },
  {
   "cell_type": "code",
   "execution_count": 42,
   "metadata": {},
   "outputs": [],
   "source": [
    "def hit_or_stand(hand,deck):\n",
    "    global playing\n",
    "    choice = input(\"Hit or Stand ?(H or S)\")\n",
    "    if choice.lower() == 'h':\n",
    "        hit(hand,deck)\n",
    "    else:\n",
    "        playing = False"
   ]
  },
  {
   "cell_type": "code",
   "execution_count": 43,
   "metadata": {},
   "outputs": [],
   "source": [
    "'''\n",
    "Show all the cards of both player and dealer \n",
    "\n",
    "Input - dealer's hand and player's hand\n",
    "\n",
    "Returns two lists of card objects for dealer and player\n",
    "'''\n",
    "def show_all(dealer,player):\n",
    "    dealer_hand = dealer.__str__()\n",
    "    player_hand = player.__str__()\n",
    "    return dealer_hand,player_hand\n",
    "\n",
    "    \n",
    "    \n",
    "def show_some(dealer,player):\n",
    "    # show only one card from dealer\n",
    "    dealer_hand = dealer.__str__().split(',')[0]\n",
    "    player_hand = player.__str__()\n",
    "    return dealer_hand,player_hand\n",
    "    \n",
    "    "
   ]
  },
  {
   "cell_type": "code",
   "execution_count": 44,
   "metadata": {
    "scrolled": true
   },
   "outputs": [
    {
     "name": "stdout",
     "output_type": "stream",
     "text": [
      "Three of Diamonds,Five of Spades,Seven of Hearts,Eight of Hearts,Queen of Diamonds,Ace of Diamonds,Five of Clubs,Queen of Hearts,Three of Spades,Ace of Hearts,Eight of Clubs,Two of Diamonds,Nine of Clubs,King of Clubs,Jack of Diamonds,Six of Spades,Queen of Spades,Nine of Diamonds,Two of Spades,Two of Hearts,Two of Clubs,Five of Diamonds,Seven of Spades,Four of Spades,Jack of Clubs,Ace of Spades,Eight of Spades,Seven of Diamonds,King of Hearts,Six of Diamonds,Jack of Hearts,Queen of Clubs,Jack of Spades,Four of Diamonds,Ten of Spades,Nine of Spades,Three of Clubs,Ten of Diamonds,Six of Clubs,Five of Hearts,Six of Hearts,Ace of Clubs,King of Diamonds,King of Spades,Ten of Clubs,Ten of Hearts,Nine of Hearts,Four of Clubs,Four of Hearts,Three of Hearts,Eight of Diamonds,Seven of Clubs\n"
     ]
    }
   ],
   "source": [
    "my_deck = Deck()\n",
    "my_deck.shuffle()\n",
    "my_deck.shuffle()\n",
    "my_deck.shuffle()\n",
    "print(my_deck)"
   ]
  },
  {
   "cell_type": "code",
   "execution_count": 89,
   "metadata": {},
   "outputs": [],
   "source": [
    "# Initialize Player Hand\n",
    "player_hand = Hand()\n",
    "dealer_hand = Hand()"
   ]
  },
  {
   "cell_type": "code",
   "execution_count": 90,
   "metadata": {},
   "outputs": [
    {
     "name": "stdout",
     "output_type": "stream",
     "text": [
      "Queen of Diamonds,Ace of Diamonds\n"
     ]
    }
   ],
   "source": [
    "# Deal two cards to player\n",
    "player_hand.add_card(my_deck.deal())\n",
    "player_hand.add_card(my_deck.deal())\n",
    "print(player_hand)"
   ]
  },
  {
   "cell_type": "code",
   "execution_count": 91,
   "metadata": {},
   "outputs": [
    {
     "name": "stdout",
     "output_type": "stream",
     "text": [
      "Five of Clubs,Queen of Hearts\n"
     ]
    }
   ],
   "source": [
    "# Deal two cards to player\n",
    "dealer_hand.add_card(my_deck.deal())\n",
    "dealer_hand.add_card(my_deck.deal())\n",
    "print(dealer_hand)"
   ]
  },
  {
   "cell_type": "code",
   "execution_count": 92,
   "metadata": {},
   "outputs": [
    {
     "name": "stdout",
     "output_type": "stream",
     "text": [
      "Queen of Diamonds,Ace of Diamonds\n",
      "Five of Clubs,Queen of Hearts\n"
     ]
    }
   ],
   "source": [
    "dealer,player = show_all(dealer_hand,player_hand)\n",
    "print(player)\n",
    "print(dealer)"
   ]
  },
  {
   "cell_type": "code",
   "execution_count": 49,
   "metadata": {},
   "outputs": [
    {
     "name": "stdout",
     "output_type": "stream",
     "text": [
      "Three of Diamonds,Five of Spades\n",
      "Seven of Hearts\n"
     ]
    }
   ],
   "source": [
    "dealer,player = show_some(dealer_hand,player_hand)\n",
    "print(player)\n",
    "print(dealer)"
   ]
  },
  {
   "cell_type": "code",
   "execution_count": 50,
   "metadata": {},
   "outputs": [],
   "source": [
    "#end game scenarios\n",
    "\n",
    "# Player Loses His Wager\n",
    "def player_busts(player_chips):\n",
    "    player_chips.lose_bet()\n",
    "\n",
    "# Player Wins His Wager\n",
    "def player_wins(player_chips):\n",
    "    player_chips.win_bet()\n",
    "\n",
    "def dealer_busts(player_chips):\n",
    "    player_chips.win_bet()\n",
    "    \n",
    "def dealer_wins(player_chips):\n",
    "    player_chips.lose_bet()\n",
    "    \n",
    "# TIE\n",
    "def push(player_chips):\n",
    "    pass\n",
    "\n",
    "def blackjack(player_chips):\n",
    "    player_chip.blackjack()\n",
    "    "
   ]
  },
  {
   "cell_type": "code",
   "execution_count": 51,
   "metadata": {},
   "outputs": [],
   "source": [
    "def play_again():\n",
    "    return input().lower() == 'y'"
   ]
  },
  {
   "cell_type": "markdown",
   "metadata": {},
   "source": [
    "## Game Play\n",
    "To play a hand of Blackjack the following steps must be followed:\n",
    "1. Create a deck of 52 cards\n",
    "2. Shuffle the deck\n",
    "3. Ask the Player for their bet\n",
    "4. Make sure that the Player's bet does not exceed their available chips\n",
    "5. Deal two cards to the Dealer and two cards to the Player\n",
    "6. Show only one of the Dealer's cards, the other remains hidden\n",
    "7. Show both of the Player's cards\n",
    "8. Ask the Player if they wish to Hit, and take another card\n",
    "9. If the Player's hand doesn't Bust (go over 21), ask if they'd like to Hit again.\n",
    "10. If a Player Stands, play the Dealer's hand. The dealer will always Hit until the Dealer's value meets or exceeds 17\n",
    "11. Determine the winner and adjust the Player's chips accordingly\n",
    "12. Ask the Player if they'd like to play again"
   ]
  },
  {
   "cell_type": "code",
   "execution_count": 52,
   "metadata": {},
   "outputs": [
    {
     "data": {
      "text/plain": [
       "'\\nprint(\"#### Welcome to PyBlackJack ####\")\\nwhile True:\\n    global playing \\n    \\n    # inner loop begins \\n    while playing:\\n        \\n        # Create a deck of 52 cards \\n        main_deck = Deck()\\n        \\n        #Shuffle\\n        main_deck.shuffle()\\n        \\n        # Initialize Chips \\n        \\n        player_chips = Chips()\\n        print(player_chips)\\n        \\n        # ask player for bet \\n        \\n        player_bet = take_bet(player_chips)\\n        \\n        # deal two cards to player and two to dealer\\n        \\n        # Initialize Hands\\n        \\n        player_hand = Hand()\\n        dealer_hand = Hand()\\n        \\n        player_cards = [new_deck.deal() for i in range(2)]\\n    \\n        \\n    \\n    \\n    \\n    \\n    \\n    \\n    \\n    \\n    \\n    \\n    \\n    # if player doesn\\'t want to play again  , break from the main outer loop\\n    if not play_again():\\n        break\\n'"
      ]
     },
     "execution_count": 52,
     "metadata": {},
     "output_type": "execute_result"
    }
   ],
   "source": [
    "print(\"#### Welcome to PyBlackJack ####\")\n",
    "while True:\n",
    "    global playing \n",
    "    \n",
    "    # inner loop begins \n",
    "    while playing:\n",
    "        \n",
    "        # Create a deck of 52 cards \n",
    "        main_deck = Deck()\n",
    "        \n",
    "        #Shuffle\n",
    "        main_deck.shuffle()\n",
    "        \n",
    "        # Initialize Chips \n",
    "        \n",
    "        player_chips = Chips()\n",
    "        print(player_chips)\n",
    "        \n",
    "        # ask player for bet \n",
    "        \n",
    "        player_bet = take_bet(player_chips)\n",
    "        \n",
    "       \n",
    "        \n",
    "        # Initialize Hands\n",
    "        \n",
    "        player_hand = Hand()\n",
    "        dealer_hand = Hand()\n",
    "        \n",
    "        # Deal cards\n",
    "        count = 1\n",
    "        while count <=2:\n",
    "            player_hand.add_card(new_deck.deal())\n",
    "            dealer_hand.add_card(new_deck.deal())\n",
    "            count+=1 \n",
    "    \n",
    "        \n",
    "    \n",
    "    \n",
    "    \n",
    "    \n",
    "    \n",
    "    \n",
    "    \n",
    "    \n",
    "    \n",
    "    \n",
    "    \n",
    "    # if player doesn't want to play again  , break from the main outer loop\n",
    "    if not play_again():\n",
    "        break   "
   ]
  }
 ],
 "metadata": {
  "kernelspec": {
   "display_name": "Python 3",
   "language": "python",
   "name": "python3"
  },
  "language_info": {
   "codemirror_mode": {
    "name": "ipython",
    "version": 3
   },
   "file_extension": ".py",
   "mimetype": "text/x-python",
   "name": "python",
   "nbconvert_exporter": "python",
   "pygments_lexer": "ipython3",
   "version": "3.6.7"
  }
 },
 "nbformat": 4,
 "nbformat_minor": 1
}
